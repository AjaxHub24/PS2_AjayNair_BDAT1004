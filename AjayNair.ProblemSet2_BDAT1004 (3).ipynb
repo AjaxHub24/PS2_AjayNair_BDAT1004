{
 "cells": [
  {
   "cell_type": "markdown",
   "id": "34e9526e",
   "metadata": {},
   "source": [
    "QUESTION 1\n",
    "\n",
    "Consider the following Python module:\n",
    "a = 0\n",
    "def b():\n",
    " global a\n",
    " a = c(a)\n",
    "def c(a):\n",
    " return a + 2\n",
    "After importing the module into the interpreter, you execute:\n",
    ">>> b()\n",
    ">>> b()\n",
    ">>> b()\n",
    ">>> a\n",
    "?\n",
    "What value is displayed when the last expression (a) is evaluated? Explain your\n",
    "answer by indicating what happens in every executed statement."
   ]
  },
  {
   "cell_type": "code",
   "execution_count": 32,
   "id": "72f53c8c",
   "metadata": {},
   "outputs": [
    {
     "data": {
      "text/plain": [
       "6"
      ]
     },
     "execution_count": 32,
     "metadata": {},
     "output_type": "execute_result"
    }
   ],
   "source": [
    "a = 0\n",
    "\n",
    "def b():\n",
    " global a\n",
    " a = c(a)\n",
    "    \n",
    "def c(a):\n",
    " return a + 2\n",
    "\n",
    "b()\n",
    "b()\n",
    "b()\n",
    "a"
   ]
  },
  {
   "cell_type": "markdown",
   "id": "b6025490",
   "metadata": {},
   "source": [
    "Answer 1  Explanation\n",
    "\n",
    "First call to b():\n",
    "\n",
    "The value of a is read as 0.\n",
    "c(0) is called and returns 2.\n",
    "a is updated to 2.\n",
    "Second call to b():\n",
    "\n",
    "The value of a is read as 2.\n",
    "c(2) is called and returns 4.\n",
    "a is updated to 4.\n",
    "Third call to b():\n",
    "\n",
    "The value of a is read as 4.\n",
    "c(4) is called and returns 6.\n",
    "a is updated to 6."
   ]
  },
  {
   "cell_type": "markdown",
   "id": "fd74710c",
   "metadata": {},
   "source": [
    "QUESTION 2 \n",
    "\n",
    "Function fileLength(), given to you, takes the name of a file as input and returns\n",
    "the length of the file:\n",
    ">>> fileLength('midterm.py')\n",
    "284\n",
    ">>> fileLength('idterm.py')\n",
    "Traceback (most recent call last):\n",
    "File \"<pyshell#34>\", line 1, in <module>\n",
    " fileLength('idterm.py')\n",
    "File \"/Users/me/midterm.py\", line 3, in fileLength\n",
    " infile = open(filename)\n",
    "FileNotFoundError: [Errno 2] No such file or directory:\n",
    "'idterm.py'\n",
    "As shown above, if the file cannot be found by the interpreter or if it cannot be read\n",
    "as a text file, an exception will be raised. Modify function fileLength() so that a\n",
    "friendly message is printed instead:\n",
    ">>> fileLength('midterm.py')\n",
    "358\n",
    ">>> fileLength('idterm.py')\n",
    "File idterm.py not found."
   ]
  },
  {
   "cell_type": "code",
   "execution_count": 33,
   "id": "62c51bce",
   "metadata": {},
   "outputs": [
    {
     "name": "stdout",
     "output_type": "stream",
     "text": [
      "File length is: 123\n",
      "File idterm.txt not found.\n"
     ]
    }
   ],
   "source": [
    "\n",
    "def fileLength(filename):\n",
    "    try:\n",
    "        infile = open(filename)\n",
    "        content = infile.read()\n",
    "        infile.close()\n",
    "        print(\"File length is:\", len(content))\n",
    "    except FileNotFoundError:\n",
    "        print(f\"File {filename} not found.\")\n",
    "fileLength('FileLength.txt')\n",
    "fileLength('idterm.txt')"
   ]
  },
  {
   "cell_type": "markdown",
   "id": "5670f4ec",
   "metadata": {},
   "source": [
    "QUESTION 3\n",
    "\n",
    "Write a class named Marsupial that can be used as shown below:\n",
    "m = Marsupial()\n",
    "m.put_in_pouch('doll')\n",
    "m.put_in_pouch('firetruck')\n",
    "m.put_in_pouch('kitten')\n",
    "m.pouch_contents()\n",
    "['doll', 'firetruck', 'kitten']\n",
    "\n",
    "\n",
    "Now write a class named Kangaroo as a subclass of Marsupial that inherits all the\n",
    "attributes of Marsupial and also:\n",
    "a. extends the Marsupial __init__ constructor to take, as input, the\n",
    "coordinates x and y of the Kangaroo object,\n",
    "b. supports method jump that takes number values dx and dy as input and\n",
    "moves the kangaroo by dx units along the x-axis and by dy units along the yaxis, and\n",
    "c. overloads the __str__ operator so it behaves as shown below.\n",
    "\n",
    "k = Kangaroo(0,0)\n",
    "print(k)\n",
    "I am a Kangaroo located at coordinates (0,0)\n",
    "k.put_in_pouch('doll')\n",
    "k.put_in_pouch('firetruck')\n",
    "k.put_in_pouch('kitten')\n",
    "k.pouch_contents()\n",
    "['doll', 'firetruck', 'kitten']\n",
    "k.jump(1,0)\n",
    "k.jump(1,0)\n",
    "k.jump(1,0)\n",
    "print(k)\n",
    "I am a Kangaroo located at coordinates (3,0)\n"
   ]
  },
  {
   "cell_type": "code",
   "execution_count": 34,
   "id": "a849119f",
   "metadata": {},
   "outputs": [],
   "source": [
    "class Marsupial:\n",
    "    def __init__(self):  \n",
    "        self.pouch = []\n",
    "    def put_in_pouch(self, item):\n",
    "        self.pouch.append(item)\n",
    "    def pouch_contents(self):\n",
    "        return self.pouch\n",
    "class Kangaroo(Marsupial):\n",
    "    def __init__(self, x, y):\n",
    "        super().__init__()   \n",
    "        self.x = x\n",
    "        self.y = y\n",
    "    def jump(self, dx, dy):\n",
    "        self.x += dx\n",
    "        self.y += dy\n",
    "    def __str__(self):\n",
    "        return 'I am a Kangaroo located at coordinates ({}, {})'.format(self.x, self.y)"
   ]
  },
  {
   "cell_type": "code",
   "execution_count": 35,
   "id": "4853bd57",
   "metadata": {},
   "outputs": [
    {
     "name": "stdout",
     "output_type": "stream",
     "text": [
      "I am a Kangaroo located at coordinates (0, 0)\n",
      "['doll', 'firetruck', 'kitten']\n",
      "I am a Kangaroo located at coordinates (3, 0)\n"
     ]
    }
   ],
   "source": [
    "k = Kangaroo(0,0)\n",
    "print(k)\n",
    "k.put_in_pouch('doll')\n",
    "k.put_in_pouch('firetruck')\n",
    "k.put_in_pouch('kitten')\n",
    "k.pouch_contents()\n",
    "print(k.pouch)  \n",
    "k.jump(1,0)\n",
    "k.jump(1,0)\n",
    "k.jump(1,0)\n",
    "print(k)"
   ]
  },
  {
   "cell_type": "markdown",
   "id": "f45dad5d",
   "metadata": {},
   "source": [
    "QUESTION 4\n",
    "\n",
    "Write function collatz() that takes a positive integer x as input and prints the\n",
    "Collatz sequence starting at x. A Collatz sequence is obtained by repeatedly applying\n",
    "this rule to the previous number x in the sequence:\n",
    "x = {\n",
    "𝑥/2 𝑖𝑓 𝑥 𝑖𝑠 𝑒𝑣𝑒𝑛\n",
    "3𝑥 + 1 𝑖𝑓 𝑥 𝑖𝑠 𝑜𝑑𝑑\n",
    "Your function should stop when the sequence gets to number 1. Your\n",
    "implementation must be recursive, without any loops.\n",
    "    \n",
    ">>> collatz(1)\n",
    "1\n",
    ">>> collatz(10)\n",
    "10\n",
    "5\n",
    "16\n",
    "8\n",
    "4\n",
    "2\n",
    "1"
   ]
  },
  {
   "cell_type": "code",
   "execution_count": 36,
   "id": "cb483720",
   "metadata": {},
   "outputs": [
    {
     "name": "stdout",
     "output_type": "stream",
     "text": [
      "1\n",
      "\n",
      "\n",
      "10\n",
      "5\n",
      "16\n",
      "8\n",
      "4\n",
      "2\n",
      "1\n"
     ]
    }
   ],
   "source": [
    "def collatz (x):  \n",
    "    if(x != 1): \n",
    "        print(x )\n",
    "    if(x == 1):\n",
    "        print(x)\n",
    "        return x\n",
    "    if(x%2 == 0):  \n",
    "        x = x // 2\n",
    "        collatz(x)\n",
    "    else:              \n",
    "        x= 3*x + 1\n",
    "        collatz(x)\n",
    "\n",
    "\n",
    "collatz(1)  \n",
    "print('\\n')\n",
    "collatz(10)"
   ]
  },
  {
   "cell_type": "markdown",
   "id": "b0582167",
   "metadata": {},
   "source": [
    "QUESTION 5\n",
    "\n",
    "Write a recursive method binary() that takes a non-negative\n",
    "integer n and prints the binary representation of integer n.\n",
    "binary(0)\n",
    "0\n",
    "binary(1)\n",
    "1\n",
    "binary(3)\n",
    "11\n",
    "binary(9)\n",
    "1001"
   ]
  },
  {
   "cell_type": "code",
   "execution_count": 37,
   "id": "7050e6c9",
   "metadata": {},
   "outputs": [
    {
     "name": "stdout",
     "output_type": "stream",
     "text": [
      "0\n",
      "1\n",
      "11\n",
      "1001\n"
     ]
    }
   ],
   "source": [
    "def binary(x):\n",
    "    \n",
    "    if x > 1:\n",
    "        binary(x//2)\n",
    "    print(x % 2,end = '')\n",
    "    \n",
    "binary(0)\n",
    "print()\n",
    "binary(1)\n",
    "print()\n",
    "binary(3)\n",
    "print()\n",
    "binary(9)\n",
    "print()"
   ]
  },
  {
   "cell_type": "markdown",
   "id": "f3666420",
   "metadata": {},
   "source": [
    "QUESTION 6 \n",
    "\n",
    "Implement a class named HeadingParser that can be used to parse an HTML document, and retrieve and print all the headings in the document. You should implement your class as a subclass of HTMLParser, defined in Standard Library\n",
    "module html.parser. When fed a string containing HTML code, your class should print the headings, one per line and in the order in which they appear in the\n",
    "document. Each heading should be indented as follows: an h1 heading should have indentation 0, and h2 heading should have indentation 1, etc. Test your\n",
    "implementation using w3c.html.\n",
    "\n",
    ">>> infile = open('w3c.html')\n",
    ">>> content = infile.read()\n",
    ">>> infile.close()\n",
    ">>> hp = HeadingParser()\n",
    ">>> hp.feed(content)\n",
    "W3C Mission\n",
    "Principles\n"
   ]
  },
  {
   "cell_type": "code",
   "execution_count": 38,
   "id": "537f32f4",
   "metadata": {},
   "outputs": [
    {
     "name": "stdout",
     "output_type": "stream",
     "text": [
      "W3C Mission\n",
      " Principles\n"
     ]
    }
   ],
   "source": [
    "from html.parser import HTMLParser\n",
    "\n",
    "class HeadingParser(HTMLParser):\n",
    "    indent = -6 \n",
    "        \n",
    "    def handle_starttag(self, tag, attrs): \n",
    "        if tag == 'h1':\n",
    "            self.indent = 0\n",
    "        elif tag == 'h2':\n",
    "            self.indent = 1\n",
    "        elif tag == 'h3':\n",
    "            self.indent = 2\n",
    "        elif tag == 'h4':\n",
    "            self.indent = 3\n",
    "        elif tag == 'h5':\n",
    "            self.indent = 4            \n",
    "        elif tag == 'h6':\n",
    "            self.indent = 5\n",
    "        else:\n",
    "            self.indent = -6\n",
    "               \n",
    "\n",
    "    def handle_data(self, data):\n",
    "        if data.strip() != \"\":\n",
    "            printWithIndentation(data, self.indent) \n",
    "        \n",
    "\n",
    "def printWithIndentation(text, indent):\n",
    "    if indent >= 0:\n",
    "        print(f\"{' ' * indent}{text}\")       \n",
    "\n",
    "input_file = open('w3c.txt') \n",
    "content = input_file.read() \n",
    "input_file.close() \n",
    "\n",
    "headingParser = HeadingParser()\n",
    "headingParser.feed(content)"
   ]
  },
  {
   "cell_type": "markdown",
   "id": "db2eab29",
   "metadata": {},
   "source": [
    "QUESTION 7 \n",
    "\n",
    "Implement recursive function webdir() that takes as input: a URL (as a string) and\n",
    "non-negative integers depth and indent. Your function should visit every web\n",
    "page reachable from the starting URL web page in depth clicks or less, and print\n",
    "each web page's URL. As shown below, indentation, specified by indent, should\n",
    "be used to indicate the depth of a URL.\n",
    ">>>\n",
    "webdir('http://reed.cs.depaul.edu/lperkovic/csc242/test1.html'\n",
    ", 2, 0)\n",
    "http://reed.cs.depaul.edu/lperkovic/csc242/test1.html\n",
    " http://reed.cs.depaul.edu/lperkovic/csc242/test2.html\n",
    " http://reed.cs.depaul.edu/lperkovic/csc242/test4.html\n",
    " http://reed.cs.depaul.edu/lperkovic/csc242/test3.html\n",
    " http://reed.cs.depaul.edu/lperkovic/csc242/test4.html"
   ]
  },
  {
   "cell_type": "code",
   "execution_count": 39,
   "id": "6975b106",
   "metadata": {},
   "outputs": [
    {
     "name": "stdout",
     "output_type": "stream",
     "text": [
      "http://reed.cs.depaul.edu/lperkovic/test1.html\n",
      "   http://reed.cs.depaul.edu/lperkovic/test2.html\n",
      "     http://reed.cs.depaul.edu/lperkovic/test4.html\n",
      "   http://reed.cs.depaul.edu/lperkovic/test3.html\n",
      "     http://reed.cs.depaul.edu/lperkovic/test4.html\n"
     ]
    }
   ],
   "source": [
    "from html.parser import HTMLParser\n",
    "from urllib.request import urlopen\n",
    "from urllib.parse import urljoin\n",
    "\n",
    "class collectURL(HTMLParser):\n",
    "    'collects hyperlinks into a list'\n",
    "    \n",
    "    def __init__(self, url):\n",
    "        'initializes parser, url and a list'\n",
    "        HTMLParser.__init__(self)\n",
    "        self.url = url\n",
    "        self.links = [] \n",
    "    \n",
    "    def handle_starttag(self, tag , attrs):\n",
    "        'collects URLs in their absolute format'\n",
    "        if tag == 'a':\n",
    "            for attr in attrs:\n",
    "                if attr[0] == 'href':\n",
    "                    absURL = urljoin(self.url, attr[1])\n",
    "                    if absURL[:4] == 'http':\n",
    "                        self.links.append(absURL)\n",
    "                        \n",
    "    def getLinks(self):\n",
    "        return self.links\n",
    "\n",
    "def webdir(url, dep, indent):\n",
    "    content = urlopen(url).read().decode()\n",
    "    collector = collectURL(url)\n",
    "    collector.feed(content)\n",
    "    urls = collector.getLinks()\n",
    "    \n",
    "    if indent == 0:\n",
    "        print(url)\n",
    "    else:\n",
    "        print(indent*' ',url)\n",
    "\n",
    "    for url in urls:\n",
    "        if dep > 0:\n",
    "            #print(dep)\n",
    "            webdir(url, dep - 1, indent+2) \n",
    "\n",
    "webdir('http://reed.cs.depaul.edu/lperkovic/test1.html', 2, 0)"
   ]
  },
  {
   "cell_type": "markdown",
   "id": "3465ee8e",
   "metadata": {},
   "source": [
    "QUESTION 8 \n",
    "\n",
    "Write SQL queries on the below database table that return:\n",
    "a) All the temperature data.\n",
    "b) All the cities, but without repetition.\n",
    "c) All the records for India.\n",
    "d) All the Fall records.\n",
    "e) The city, country, and season for which the average rainfall is between 200\n",
    "and 400 millimeters.\n",
    "f) The city and country for which the average Fall temperature is above 20\n",
    "degrees, in increasing temperature order.\n",
    "g) The total annual rainfall for Cairo.\n",
    "h) The total rainfall for each season.\n",
    "\n",
    "\n"
   ]
  },
  {
   "cell_type": "code",
   "execution_count": 40,
   "id": "59fab684",
   "metadata": {},
   "outputs": [
    {
     "name": "stdout",
     "output_type": "stream",
     "text": [
      "Query a: (24.8,)\n",
      "Query a: (27.9,)\n",
      "Query a: (27.6,)\n",
      "Query a: (4.2,)\n",
      "Query a: (8.3,)\n",
      "Query a: (15.7,)\n",
      "Query a: (10.4,)\n",
      "Query a: (13.6,)\n",
      "Query a: (20.7,)\n",
      "Query b: ('Mumbai',)\n",
      "Query b: ('London',)\n",
      "Query b: ('Cairo',)\n",
      "Query c: ('Mumbai', 'India', 'Winter', 24.8, 5.9)\n",
      "Query c: ('Mumbai', 'India', 'Summer', 27.9, 1549.4)\n",
      "Query c: ('Mumbai', 'India', 'Fall', 27.6, 346.0)\n",
      "Query d: ('Mumbai', 'India', 'Fall', 27.6, 346.0)\n",
      "Query d: ('London', 'United Kingdom', 'Fall', 10.4, 218.5)\n",
      "Query e: ('Mumbai', 'India', 'Fall')\n",
      "Query e: ('London', 'United Kingdom', 'Winter')\n",
      "Query e: ('London', 'United Kingdom', 'Fall')\n",
      "Query f: ('Mumbai', 'India')\n",
      "Query g: [(23.0,)]\n",
      "Query f: (564.5, 'Fall')\n",
      "Query f: (176.1, 'Spring')\n",
      "Query f: (1706.4, 'Summer')\n",
      "Query f: (230.1, 'Winter')\n"
     ]
    }
   ],
   "source": [
    "import sqlite3\n",
    "\n",
    "\n",
    "conn = sqlite3.connect('weatherreport.db')\n",
    "cur = conn.cursor()\n",
    "\n",
    "\n",
    "cur.execute(\"DROP TABLE IF EXISTS weather\")\n",
    "\n",
    "\n",
    "cur.execute(\"CREATE TABLE weather (city TEXT, country TEXT, season TEXT, temperature float, rainfall float)\")\n",
    "\n",
    "\n",
    "cur.execute(\"INSERT INTO weather VALUES('Mumbai', 'India', 'Winter', 24.8, 5.9);\")\n",
    "cur.execute(\"INSERT INTO weather VALUES('Mumbai', 'India', 'Summer', 27.9, 1549.4);\")\n",
    "cur.execute(\"INSERT INTO weather VALUES('Mumbai', 'India', 'Fall', 27.6, 346.0);\")\n",
    "cur.execute(\"INSERT INTO weather VALUES('London', 'United Kingdom', 'Winter', 4.2, 207.7);\")\n",
    "cur.execute(\"INSERT INTO weather VALUES('London', 'United Kingdom', 'Spring', 8.3, 169.6);\")\n",
    "cur.execute(\"INSERT INTO weather VALUES('London', 'United Kingdom', 'Summer', 15.7, 157.0);\")\n",
    "cur.execute(\"INSERT INTO weather VALUES('London', 'United Kingdom', 'Fall', 10.4, 218.5);\")\n",
    "cur.execute(\"INSERT INTO weather VALUES('Cairo', 'Egypt', 'Winter', 13.6, 16.5);\")\n",
    "cur.execute(\"INSERT INTO weather VALUES('Cairo', 'Egypt', 'Spring', 20.7, 6.5);\")\n",
    "\n",
    "conn.commit()\n",
    "\n",
    "# FOR A\n",
    "cur.execute('SELECT temperature FROM weather')\n",
    "for record in cur:\n",
    "    print(\"Query a:\", record)\n",
    "\n",
    "# FOR B\n",
    "cur.execute('SELECT DISTINCT city FROM weather')\n",
    "for record in cur:\n",
    "    print(\"Query b:\", record)\n",
    "\n",
    "# FOR C\n",
    "cur.execute('SELECT * FROM weather WHERE country = \"India\"')\n",
    "for record in cur:\n",
    "    print(\"Query c:\", record)\n",
    "\n",
    "# FOR D\n",
    "cur.execute('SELECT * FROM weather WHERE season = \"Fall\"')\n",
    "for record in cur:\n",
    "    print(\"Query d:\", record)\n",
    "\n",
    "# Query E\n",
    "cur.execute('SELECT city, country, season FROM weather WHERE (rainfall > 200) AND (rainfall < 400)')\n",
    "for record in cur:\n",
    "    print(\"Query e:\", record)\n",
    "\n",
    "# FOR F\n",
    "cur.execute('SELECT city, country FROM weather WHERE (season = \"Fall\") AND (temperature > 20) ORDER BY temperature DESC')\n",
    "for record in cur:\n",
    "    print(\"Query f:\", record)\n",
    "\n",
    "# FOR G\n",
    "cur.execute('SELECT SUM(rainfall) FROM weather WHERE city = \"Cairo\"')\n",
    "Annual_rainfall = cur.fetchall()\n",
    "print(\"Query g:\", Annual_rainfall)\n",
    "\n",
    "# FOR H\n",
    "cur.execute('SELECT SUM(rainfall), season FROM weather GROUP BY season')\n",
    "for record in cur:\n",
    "    print(\"Query f:\", record)\n",
    "\n",
    "conn.close()"
   ]
  },
  {
   "cell_type": "markdown",
   "id": "49b30042",
   "metadata": {},
   "source": [
    "QUESTION 9 \n",
    "\n",
    ". Suppose list words is defined as follows:\n",
    ">>> words = ['The', 'quick', 'brown', 'fox', 'jumps', 'over',\n",
    "'the', 'lazy', 'dog']\n",
    "\n",
    "\n",
    "Write list comprehension expressions that use list words and generate the following\n",
    "lists:\n",
    "a) ['THE', 'QUICK', 'BROWN', 'FOX', 'JUMPS', 'OVER', 'THE',\n",
    "'LAZY', 'DOG']\n",
    "b) ['the', 'quick', 'brown', 'fox', 'jumps', 'over', 'the',\n",
    "'lazy', 'dog']\n",
    "c) [3, 5, 5, 3, 5, 4, 3, 4, 3] (the list of lengths of words in list\n",
    "words).\n",
    "d) [['THE', 'the', 3], ['QUICK', 'quick', 5], ['BROWN',\n",
    "'brown', 5], ['FOX', 'fox', 3], ['JUMPS', 'jumps', 5],\n",
    "['OVER', 'over', 4], ['THE', 'the', 3], ['LAZY', 'lazy',\n",
    "4], ['DOG', 'dog', 3]] (the list containing a list for every word of list\n",
    "words, where each list contains the word in uppercase and lowercase and the\n",
    "length of the word.)\n",
    "e) ['The', 'quick', 'brown', 'fox', 'jumps', 'over', 'the',\n",
    "'lazy', 'dog'] (the list of words in list words containing 4 or more\n",
    "characters.)"
   ]
  },
  {
   "cell_type": "code",
   "execution_count": 41,
   "id": "d769492d",
   "metadata": {},
   "outputs": [
    {
     "name": "stdout",
     "output_type": "stream",
     "text": [
      "a)  ['THE', 'QUICK', 'BROWN', 'FOX', 'JUMPS', 'OVER', 'THE', 'LAZY', 'DOG']\n",
      "b)  ['the', 'quick', 'brown', 'fox', 'jumps', 'over', 'the', 'lazy', 'dog']\n",
      "c)  [3, 5, 5, 3, 5, 4, 3, 4, 3]\n",
      "d)  [['THE', 'the', 3], ['QUICK', 'quick', 5], ['BROWN', 'brown', 5], ['FOX', 'fox', 3], ['JUMPS', 'jumps', 5], ['OVER', 'over', 4], ['THE', 'the', 3], ['LAZY', 'lazy', 4], ['DOG', 'dog', 3]]\n",
      "e)  ['quick', 'brown', 'jumps', 'over', 'lazy']\n"
     ]
    }
   ],
   "source": [
    "words = ['The', 'quick', 'brown', 'fox', 'jumps', 'over', 'the', 'lazy', 'dog']\n",
    "\n",
    "# part a\n",
    "upper_case_words = [word.upper() for word in words]\n",
    "\n",
    "# part b\n",
    "lower_case_words = [word.lower() for word in words]\n",
    "\n",
    "# part c \n",
    "word_lengths = [len(word) for word in words]\n",
    "\n",
    "# part d\n",
    "word_info = [[word.upper(), word.lower(), len(word)] for word in words]\n",
    "\n",
    "# part e\n",
    "words_4_or_more = [word for word in words if len(word) >= 4]\n",
    "\n",
    "\n",
    "print(\"a) \", upper_case_words)\n",
    "print(\"b) \", lower_case_words)\n",
    "print(\"c) \", word_lengths)\n",
    "print(\"d) \", word_info)\n",
    "print(\"e) \", words_4_or_more)\n"
   ]
  },
  {
   "cell_type": "code",
   "execution_count": null,
   "id": "abbc1e6e",
   "metadata": {},
   "outputs": [],
   "source": []
  }
 ],
 "metadata": {
  "kernelspec": {
   "display_name": "Python 3 (ipykernel)",
   "language": "python",
   "name": "python3"
  },
  "language_info": {
   "codemirror_mode": {
    "name": "ipython",
    "version": 3
   },
   "file_extension": ".py",
   "mimetype": "text/x-python",
   "name": "python",
   "nbconvert_exporter": "python",
   "pygments_lexer": "ipython3",
   "version": "3.11.7"
  }
 },
 "nbformat": 4,
 "nbformat_minor": 5
}
